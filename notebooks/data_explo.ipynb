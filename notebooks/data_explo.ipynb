{
 "cells": [
  {
   "cell_type": "code",
   "execution_count": 65,
   "id": "43883c8c",
   "metadata": {},
   "outputs": [
    {
     "name": "stdout",
     "output_type": "stream",
     "text": [
      "Requirement already satisfied: redis in c:\\users\\udossougbete\\appdata\\local\\anaconda3\\lib\\site-packages (5.3.0)\n",
      "Requirement already satisfied: PyJWT~=2.9.0 in c:\\users\\udossougbete\\appdata\\local\\anaconda3\\lib\\site-packages (from redis) (2.9.0)\n"
     ]
    }
   ],
   "source": [
    "!pip install redis\n",
    "import redis\n",
    "\n",
    "# Connect\n",
    "r = redis.Redis(host='localhost', port=6379, decode_responses=True)"
   ]
  },
  {
   "cell_type": "markdown",
   "id": "1c1937c9",
   "metadata": {},
   "source": [
    "## Number of fields in a hash record\n"
   ]
  },
  {
   "cell_type": "code",
   "execution_count": 66,
   "id": "3ac9ae48",
   "metadata": {},
   "outputs": [
    {
     "name": "stdout",
     "output_type": "stream",
     "text": [
      "3\n"
     ]
    }
   ],
   "source": [
    "a=r.hlen(\"actor:632\")\n",
    "print(a)"
   ]
  },
  {
   "cell_type": "markdown",
   "id": "b33659b3",
   "metadata": {},
   "source": [
    "## How many actors and movies are stored in Redis?"
   ]
  },
  {
   "cell_type": "code",
   "execution_count": 67,
   "id": "8e94bfb5",
   "metadata": {},
   "outputs": [
    {
     "data": {
      "text/plain": [
       "1319"
      ]
     },
     "execution_count": 67,
     "metadata": {},
     "output_type": "execute_result"
    }
   ],
   "source": [
    "len(r.keys('actor:*'))"
   ]
  },
  {
   "cell_type": "markdown",
   "id": "46e58561",
   "metadata": {},
   "source": [
    "## List 5 actors born before 1980"
   ]
  },
  {
   "cell_type": "code",
   "execution_count": 69,
   "id": "0ec0ab71",
   "metadata": {},
   "outputs": [
    {
     "name": "stdout",
     "output_type": "stream",
     "text": [
      "Bruce Greenwood  – 1956\n",
      "Darren Goldstein  – 1974\n",
      "Corey Stoll  – 1976\n",
      "Tony Way  – 1978\n",
      "Russell Brand  – 1975\n"
     ]
    }
   ],
   "source": [
    "\n",
    "actors = []\n",
    "for key in r.scan_iter(match='actor:*'):\n",
    "    result = r.hget(key, 'date_of_birth')\n",
    "    if result is None:\n",
    "        continue\n",
    "    \n",
    "    year=int(result)\n",
    "\n",
    "    if year < 1980:\n",
    "        actors.append({\n",
    "            'id': key.split(':')[1],\n",
    "            'first_name': r.hget(key, 'first_name'),\n",
    "            'last_name':  r.hget(key, 'last_name'),\n",
    "            'result': year\n",
    "        })\n",
    "    if len(actors) >= 5:\n",
    "        break\n",
    "\n",
    "\n",
    "for a in actors:\n",
    "    print(f\"{a['first_name']} {a['last_name']}  – {a['result']}\")\n"
   ]
  },
  {
   "cell_type": "markdown",
   "id": "b2a69eec",
   "metadata": {},
   "source": [
    "## Retrieve the genre and rating of the movie \"The Imitation Game\"."
   ]
  },
  {
   "cell_type": "code",
   "execution_count": 75,
   "id": "68bb3ca5",
   "metadata": {},
   "outputs": [
    {
     "name": "stdout",
     "output_type": "stream",
     "text": [
      "movie:422\n",
      "['Biography', '8.1']\n"
     ]
    }
   ],
   "source": [
    "\n",
    "for key in r.scan_iter(match='movie:*'):\n",
    "    moovie_title = r.hget(key, 'title')\n",
    "    if moovie_title== \"The Imitation Game\":\n",
    "       result=[]\n",
    "       result =  r.hmget(key, ['genre', 'rating'])\n",
    "      \n",
    "\n",
    "print(key)       \n",
    "print(result)"
   ]
  },
  {
   "cell_type": "markdown",
   "id": "92cb0cbf",
   "metadata": {},
   "source": [
    "## List the top 5 highest-rated movies."
   ]
  },
  {
   "cell_type": "code",
   "execution_count": null,
   "id": "dcacfb65",
   "metadata": {},
   "outputs": [
    {
     "name": "stdout",
     "output_type": "stream",
     "text": [
      "[{'key': 'movie:787', 'tiltle': 'Vegas (doc)', 'rating': 9.4}, {'key': 'movie:521', 'tiltle': 'Boy 9', 'rating': 9.4}, {'key': 'movie:314', 'tiltle': 'The Shawshank Redemption', 'rating': 9.3}, {'key': 'movie:723', 'tiltle': 'Ween Live in Chicago', 'rating': 9.2}, {'key': 'movie:1025', 'tiltle': 'Over Canada: An Aerial Adventure', 'rating': 9.1}]\n"
     ]
    }
   ],
   "source": [
    "\n",
    "moovies = []\n",
    "for key in r.scan_iter(match='movie:*'):\n",
    "    title = r.hget(key, 'title')\n",
    "    rating = r.hget(key, 'rating')\n",
    "    float_rating=float(rating)\n",
    "    \n",
    "    if rating  is None:\n",
    "        continue\n",
    "\n",
    "\n",
    "    moovies.append ({'key': key,\n",
    "                 'tiltle': title,\n",
    "                 'rating': float_rating})\n",
    "\n",
    "top5 = sorted(moovies, key=lambda m: m['rating'], reverse=True)[:5]\n",
    "\n",
    "\n",
    "print(top5)"
   ]
  },
  {
   "cell_type": "markdown",
   "id": "bb0704b7",
   "metadata": {},
   "source": [
    "## How many movies have a rating above 7.5?"
   ]
  },
  {
   "cell_type": "code",
   "execution_count": 82,
   "id": "b06328b2",
   "metadata": {},
   "outputs": [
    {
     "name": "stdout",
     "output_type": "stream",
     "text": [
      "183\n"
     ]
    }
   ],
   "source": [
    "\n",
    "a = 0\n",
    "for key in r.scan_iter(match='movie:*'):\n",
    "    rating = r.hget(key, 'rating')\n",
    "    if result is None:\n",
    "        continue\n",
    "    \n",
    "    float_rating=float(rating)\n",
    "\n",
    "    if float_rating > 7.5:\n",
    "        a=a+1\n",
    "       \n",
    "   \n",
    "\n",
    "\n",
    "print(a)\n"
   ]
  },
  {
   "cell_type": "markdown",
   "id": "ecb52bfd",
   "metadata": {},
   "source": [
    "## Update the rating of the movie \"The Imitation Game\" to 8.5"
   ]
  },
  {
   "cell_type": "code",
   "execution_count": 87,
   "id": "10b2525a",
   "metadata": {},
   "outputs": [
    {
     "name": "stdout",
     "output_type": "stream",
     "text": [
      "['The Imitation Game', '8.5']\n"
     ]
    }
   ],
   "source": [
    "\n",
    "for key in r.scan_iter(match='movie:*'):\n",
    "    moovie_title = r.hget(key, 'title')\n",
    "    if moovie_title== \"The Imitation Game\":\n",
    "       a =r.hset(key, 'rating',8.5)\n",
    "       result =  r.hmget(key, ['title', 'rating'])\n",
    "      \n",
    "\n",
    "    \n",
    "print(result)"
   ]
  },
  {
   "cell_type": "markdown",
   "id": "d58c05f8",
   "metadata": {},
   "source": [
    "## Add a new actor: \"Zendaya\", born in 1996."
   ]
  },
  {
   "cell_type": "code",
   "execution_count": 127,
   "id": "96d7bb9d",
   "metadata": {},
   "outputs": [
    {
     "name": "stdout",
     "output_type": "stream",
     "text": [
      "{'first_name': 'Zendaya', 'last_name': '', 'date_of_birth': '1996'}\n"
     ]
    }
   ],
   "source": [
    "actor_id = r.incr('actor:id:counter')\n",
    "key = f'actor:{actor_id}'\n",
    "\n",
    "\n",
    "r.hset(key, mapping={\n",
    "    'first_name': 'Zendaya',\n",
    "    'last_name': '',            \n",
    "    'date_of_birth': '1996'\n",
    "})\n",
    "\n",
    "\n",
    "print(r.hgetall(key))"
   ]
  },
  {
   "cell_type": "markdown",
   "id": "66d45f92",
   "metadata": {},
   "source": [
    "## Delete the movie with title \"The Room\"."
   ]
  },
  {
   "cell_type": "code",
   "execution_count": 132,
   "id": "84a3eb1a",
   "metadata": {},
   "outputs": [],
   "source": [
    "for key in r.scan_iter(match='movie:*'):\n",
    "    moovie_title = r.hget(key, 'title')\n",
    "    if moovie_title== \"The Room\":\n",
    "        r.hdel(key)\n",
    "    \n",
    "    "
   ]
  }
 ],
 "metadata": {
  "kernelspec": {
   "display_name": "base",
   "language": "python",
   "name": "python3"
  },
  "language_info": {
   "codemirror_mode": {
    "name": "ipython",
    "version": 3
   },
   "file_extension": ".py",
   "mimetype": "text/x-python",
   "name": "python",
   "nbconvert_exporter": "python",
   "pygments_lexer": "ipython3",
   "version": "3.12.7"
  }
 },
 "nbformat": 4,
 "nbformat_minor": 5
}
